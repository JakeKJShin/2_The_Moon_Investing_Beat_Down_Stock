{
 "cells": [
  {
   "cell_type": "markdown",
   "metadata": {},
   "source": [
    "### Data Collection\n",
    "\n",
    "\n",
    "\n"
   ]
  },
  {
   "cell_type": "code",
   "execution_count": 1,
   "metadata": {},
   "outputs": [],
   "source": [
    "import requests\n",
    "import pandas as pd\n",
    "import numpy as np"
   ]
  },
  {
   "cell_type": "code",
   "execution_count": 2,
   "metadata": {},
   "outputs": [
    {
     "name": "stderr",
     "output_type": "stream",
     "text": [
      "[nltk_data] Downloading package vader_lexicon to C:\\Users\\Straw\n",
      "[nltk_data]     Hat\\AppData\\Roaming\\nltk_data...\n",
      "[nltk_data]   Package vader_lexicon is already up-to-date!\n"
     ]
    },
    {
     "data": {
      "text/plain": [
       "True"
      ]
     },
     "execution_count": 2,
     "metadata": {},
     "output_type": "execute_result"
    }
   ],
   "source": [
    "import os\n",
    "import json\n",
    "from requests_oauthlib import OAuth1Session\n",
    "import pandas as pd\n",
    "from dotenv import load_dotenv\n",
    "import nltk as nltk\n",
    "nltk.download('vader_lexicon')\n",
    "from nltk.sentiment.vader import SentimentIntensityAnalyzer\n",
    "analyzer = SentimentIntensityAnalyzer()\n",
    "#from newsapi import NewsApiClient\n",
    "from pathlib import Path\n",
    "import tweepy as tw\n",
    "%matplotlib inline\n",
    "load_dotenv()"
   ]
  },
  {
   "cell_type": "code",
   "execution_count": 3,
   "metadata": {},
   "outputs": [],
   "source": [
    "consumer_key=os.environ.get(\"TWITTER_API_KEY\")\n",
    "consumer_secret=os.environ.get(\"TWITTER_SECERET_API_KEY\")\n",
    "access_token=os.environ.get(\"ACCESS_TOKEN\")\n",
    "access_token_secret=os.environ.get(\"ACCESS_TOKEN_SECRET\")\n",
    "bearer_token =os.environ.get(\"TWITTER_BEARER_TOKEN\")"
   ]
  },
  {
   "cell_type": "code",
   "execution_count": 4,
   "metadata": {},
   "outputs": [],
   "source": [
    "import requests\n",
    "\n",
    "client = tw.Client( bearer_token, \n",
    "                        consumer_key, \n",
    "                        consumer_secret, \n",
    "                        access_token, \n",
    "                        access_token_secret, \n",
    "                        return_type = requests.Response,\n",
    "                        wait_on_rate_limit=True)"
   ]
  },
  {
   "cell_type": "code",
   "execution_count": 5,
   "metadata": {},
   "outputs": [],
   "source": [
    "# Define query\n",
    "query = 'from:zerohedge -is:retweet'\n",
    "\n",
    "# get max. 10 tweets\n",
    "tweets = client.search_recent_tweets(query=query, \n",
    "                                    tweet_fields=['author_id', 'created_at'],\n",
    "                                     max_results=100)"
   ]
  },
  {
   "cell_type": "code",
   "execution_count": 6,
   "metadata": {},
   "outputs": [],
   "source": [
    "# Save data as dictionary\n",
    "tweets_dict = tweets.json() \n",
    "\n",
    "# Extract \"data\" value from dictionary\n",
    "tweets_data = tweets_dict['data'] \n",
    "\n",
    "# Transform to pandas Dataframe\n",
    "df = pd.json_normalize(tweets_data) "
   ]
  },
  {
   "cell_type": "code",
   "execution_count": 7,
   "metadata": {},
   "outputs": [
    {
     "data": {
      "text/html": [
       "<div>\n",
       "<style scoped>\n",
       "    .dataframe tbody tr th:only-of-type {\n",
       "        vertical-align: middle;\n",
       "    }\n",
       "\n",
       "    .dataframe tbody tr th {\n",
       "        vertical-align: top;\n",
       "    }\n",
       "\n",
       "    .dataframe thead th {\n",
       "        text-align: right;\n",
       "    }\n",
       "</style>\n",
       "<table border=\"1\" class=\"dataframe\">\n",
       "  <thead>\n",
       "    <tr style=\"text-align: right;\">\n",
       "      <th></th>\n",
       "      <th>created_at</th>\n",
       "      <th>id</th>\n",
       "      <th>text</th>\n",
       "      <th>author_id</th>\n",
       "    </tr>\n",
       "  </thead>\n",
       "  <tbody>\n",
       "    <tr>\n",
       "      <th>0</th>\n",
       "      <td>2022-03-12T02:00:17.000Z</td>\n",
       "      <td>1502464464377073666</td>\n",
       "      <td>Democrat Spending Bill Contains 'Serious Expan...</td>\n",
       "      <td>18856867</td>\n",
       "    </tr>\n",
       "    <tr>\n",
       "      <th>1</th>\n",
       "      <td>2022-03-12T01:40:14.000Z</td>\n",
       "      <td>1502459417547218944</td>\n",
       "      <td>Russia Soars Past Iran &amp;amp; Syria To Become W...</td>\n",
       "      <td>18856867</td>\n",
       "    </tr>\n",
       "    <tr>\n",
       "      <th>2</th>\n",
       "      <td>2022-03-12T01:20:13.000Z</td>\n",
       "      <td>1502454382377512964</td>\n",
       "      <td>The Next Terror Wave Looms https://t.co/OCTNPm...</td>\n",
       "      <td>18856867</td>\n",
       "    </tr>\n",
       "    <tr>\n",
       "      <th>3</th>\n",
       "      <td>2022-03-12T01:00:15.000Z</td>\n",
       "      <td>1502449355667775490</td>\n",
       "      <td>Democrats Would Lose Control Of Congress If El...</td>\n",
       "      <td>18856867</td>\n",
       "    </tr>\n",
       "    <tr>\n",
       "      <th>4</th>\n",
       "      <td>2022-03-12T00:40:15.000Z</td>\n",
       "      <td>1502444323102760967</td>\n",
       "      <td>Russian Invasion Of Ukraine Is 'Crime Against ...</td>\n",
       "      <td>18856867</td>\n",
       "    </tr>\n",
       "    <tr>\n",
       "      <th>...</th>\n",
       "      <td>...</td>\n",
       "      <td>...</td>\n",
       "      <td>...</td>\n",
       "      <td>...</td>\n",
       "    </tr>\n",
       "    <tr>\n",
       "      <th>95</th>\n",
       "      <td>2022-03-11T15:13:29.000Z</td>\n",
       "      <td>1502301693286957069</td>\n",
       "      <td>*S&amp;amp;P 500 DIPS TO SESSION LOW AFTER ERASING...</td>\n",
       "      <td>18856867</td>\n",
       "    </tr>\n",
       "    <tr>\n",
       "      <th>96</th>\n",
       "      <td>2022-03-11T15:12:13.000Z</td>\n",
       "      <td>1502301374687723530</td>\n",
       "      <td>Here Are All The Latest News And Developments ...</td>\n",
       "      <td>18856867</td>\n",
       "    </tr>\n",
       "    <tr>\n",
       "      <th>97</th>\n",
       "      <td>2022-03-11T15:10:14.000Z</td>\n",
       "      <td>1502300874600820743</td>\n",
       "      <td>Watch Live: President Biden Unveils More Punis...</td>\n",
       "      <td>18856867</td>\n",
       "    </tr>\n",
       "    <tr>\n",
       "      <th>98</th>\n",
       "      <td>2022-03-11T15:08:12.000Z</td>\n",
       "      <td>1502300362665086978</td>\n",
       "      <td>UMich Sentiment Slumps In March As 'Hope' Plun...</td>\n",
       "      <td>18856867</td>\n",
       "    </tr>\n",
       "    <tr>\n",
       "      <th>99</th>\n",
       "      <td>2022-03-11T15:04:41.000Z</td>\n",
       "      <td>1502299478358962183</td>\n",
       "      <td>1-year inflation expectations 5.4%, up from 4....</td>\n",
       "      <td>18856867</td>\n",
       "    </tr>\n",
       "  </tbody>\n",
       "</table>\n",
       "<p>100 rows × 4 columns</p>\n",
       "</div>"
      ],
      "text/plain": [
       "                  created_at                   id  \\\n",
       "0   2022-03-12T02:00:17.000Z  1502464464377073666   \n",
       "1   2022-03-12T01:40:14.000Z  1502459417547218944   \n",
       "2   2022-03-12T01:20:13.000Z  1502454382377512964   \n",
       "3   2022-03-12T01:00:15.000Z  1502449355667775490   \n",
       "4   2022-03-12T00:40:15.000Z  1502444323102760967   \n",
       "..                       ...                  ...   \n",
       "95  2022-03-11T15:13:29.000Z  1502301693286957069   \n",
       "96  2022-03-11T15:12:13.000Z  1502301374687723530   \n",
       "97  2022-03-11T15:10:14.000Z  1502300874600820743   \n",
       "98  2022-03-11T15:08:12.000Z  1502300362665086978   \n",
       "99  2022-03-11T15:04:41.000Z  1502299478358962183   \n",
       "\n",
       "                                                 text author_id  \n",
       "0   Democrat Spending Bill Contains 'Serious Expan...  18856867  \n",
       "1   Russia Soars Past Iran &amp; Syria To Become W...  18856867  \n",
       "2   The Next Terror Wave Looms https://t.co/OCTNPm...  18856867  \n",
       "3   Democrats Would Lose Control Of Congress If El...  18856867  \n",
       "4   Russian Invasion Of Ukraine Is 'Crime Against ...  18856867  \n",
       "..                                                ...       ...  \n",
       "95  *S&amp;P 500 DIPS TO SESSION LOW AFTER ERASING...  18856867  \n",
       "96  Here Are All The Latest News And Developments ...  18856867  \n",
       "97  Watch Live: President Biden Unveils More Punis...  18856867  \n",
       "98  UMich Sentiment Slumps In March As 'Hope' Plun...  18856867  \n",
       "99  1-year inflation expectations 5.4%, up from 4....  18856867  \n",
       "\n",
       "[100 rows x 4 columns]"
      ]
     },
     "execution_count": 7,
     "metadata": {},
     "output_type": "execute_result"
    }
   ],
   "source": [
    "df"
   ]
  }
 ],
 "metadata": {
  "interpreter": {
   "hash": "457bfd66bc83167280522f0979df4544bbf298b22f7b001b0d6e3acbe142422c"
  },
  "kernelspec": {
   "display_name": "Python 3.8.8 ('base')",
   "name": "python3"
  },
  "language_info": {
   "codemirror_mode": {
    "name": "ipython",
    "version": 3
   },
   "file_extension": ".py",
   "mimetype": "text/x-python",
   "name": "python",
   "nbconvert_exporter": "python",
   "pygments_lexer": "ipython3",
   "version": "3.7.10"
  }
 },
 "nbformat": 4,
 "nbformat_minor": 2
}
