{
 "cells": [
  {
   "cell_type": "markdown",
   "metadata": {},
   "source": [
    "### Data Collection\n",
    "\n",
    "\n",
    "1. GET S&P 500 company info<br>\n"
   ]
  },
  {
   "cell_type": "code",
   "execution_count": 1,
   "metadata": {},
   "outputs": [],
   "source": [
    "import requests\n",
    "import pandas as pd\n",
    "import numpy as np"
   ]
  },
  {
   "cell_type": "code",
   "execution_count": 2,
   "metadata": {},
   "outputs": [
    {
     "name": "stderr",
     "output_type": "stream",
     "text": [
      "[nltk_data] Downloading package vader_lexicon to C:\\Users\\Straw\n",
      "[nltk_data]     Hat\\AppData\\Roaming\\nltk_data...\n",
      "[nltk_data]   Package vader_lexicon is already up-to-date!\n"
     ]
    },
    {
     "data": {
      "text/plain": [
       "True"
      ]
     },
     "execution_count": 2,
     "metadata": {},
     "output_type": "execute_result"
    }
   ],
   "source": [
    "import os\n",
    "import json\n",
    "from requests_oauthlib import OAuth1Session\n",
    "import pandas as pd\n",
    "from dotenv import load_dotenv\n",
    "import nltk as nltk\n",
    "nltk.download('vader_lexicon')\n",
    "from nltk.sentiment.vader import SentimentIntensityAnalyzer\n",
    "analyzer = SentimentIntensityAnalyzer()\n",
    "from newsapi import NewsApiClient\n",
    "from pathlib import Path\n",
    "import tweepy as tw\n",
    "%matplotlib inline\n",
    "load_dotenv()"
   ]
  },
  {
   "cell_type": "code",
   "execution_count": 3,
   "metadata": {},
   "outputs": [],
   "source": [
    "bearer_token = os.environ.get(\"TWITTER_BEARER_TOKEN\")"
   ]
  },
  {
   "cell_type": "code",
   "execution_count": 4,
   "metadata": {},
   "outputs": [],
   "source": [
    "def create_url():\n",
    "    # Replace with user ID below\n",
    "    user_id = 18856867\n",
    "    return \"https://api.twitter.com/2/users/{}/tweets\".format(user_id)"
   ]
  },
  {
   "cell_type": "code",
   "execution_count": 5,
   "metadata": {},
   "outputs": [],
   "source": [
    "def get_params():\n",
    "    # Tweet fields are adjustable.\n",
    "    # Options include:\n",
    "    # attachments, author_id, context_annotations,\n",
    "    # conversation_id, created_at, entities, geo, id,\n",
    "    # in_reply_to_user_id, lang, non_public_metrics, organic_metrics,\n",
    "    # possibly_sensitive, promoted_metrics, public_metrics, referenced_tweets,\n",
    "    # source, text, and withheld\n",
    "    return {\"tweet.fields\": \"created_at\"}"
   ]
  },
  {
   "cell_type": "code",
   "execution_count": 6,
   "metadata": {},
   "outputs": [],
   "source": [
    "def bearer_oauth(r):\n",
    "    \"\"\"\n",
    "    Method required by bearer token authentication.\n",
    "    \"\"\"\n",
    "\n",
    "    r.headers[\"Authorization\"] = f\"Bearer {bearer_token}\"\n",
    "    r.headers[\"User-Agent\"] = \"v2UserTweetsPython\"\n",
    "    return r"
   ]
  },
  {
   "cell_type": "code",
   "execution_count": 7,
   "metadata": {},
   "outputs": [],
   "source": [
    "def connect_to_endpoint(url, params):\n",
    "    response = requests.request(\"GET\", url, auth=bearer_oauth, params=params)\n",
    "    print(response.status_code)\n",
    "    if response.status_code != 200:\n",
    "        raise Exception(\n",
    "            \"Request returned an error: {} {}\".format(\n",
    "                response.status_code, response.text\n",
    "            )\n",
    "        )\n",
    "    return response.json()"
   ]
  },
  {
   "cell_type": "code",
   "execution_count": 8,
   "metadata": {},
   "outputs": [
    {
     "name": "stdout",
     "output_type": "stream",
     "text": [
      "200\n",
      "{\n",
      "    \"data\": [\n",
      "        {\n",
      "            \"created_at\": \"2022-03-11T21:40:13.000Z\",\n",
      "            \"id\": \"1502399018520956931\",\n",
      "            \"text\": \"UN Warns Ukraine War Could Spark 20% Surge In Global Food Prices\\u00a0 https://t.co/gHH24LwRNj\"\n",
      "        },\n",
      "        {\n",
      "            \"created_at\": \"2022-03-11T21:39:23.000Z\",\n",
      "            \"id\": \"1502398807576825856\",\n",
      "            \"text\": \"Zoltan just became non-grata on every establishment outlet... and a bitcoin maxi https://t.co/3u1Ilb3vmi\"\n",
      "        },\n",
      "        {\n",
      "            \"created_at\": \"2022-03-11T21:20:13.000Z\",\n",
      "            \"id\": \"1502393985620447235\",\n",
      "            \"text\": \"Ferguson: The Fates Of Ukraine And Putin Turn On 7 Forces Of History https://t.co/p2TGwW65Be\"\n",
      "        },\n",
      "        {\n",
      "            \"created_at\": \"2022-03-11T21:10:16.000Z\",\n",
      "            \"id\": \"1502391478789804036\",\n",
      "            \"text\": \"RT @Stalingrad_Poor: https://t.co/8qqjfEGt59\"\n",
      "        },\n",
      "        {\n",
      "            \"created_at\": \"2022-03-11T21:07:33.000Z\",\n",
      "            \"id\": \"1502390796493930500\",\n",
      "            \"text\": \"*DIDI SHARES CLOSE DOWN 44% IN BIGGEST DROP ON RECORD\"\n",
      "        },\n",
      "        {\n",
      "            \"created_at\": \"2022-03-11T21:04:46.000Z\",\n",
      "            \"id\": \"1502390097471320071\",\n",
      "            \"text\": \"*U.S. TREASURY SANTIONS RUSSIAN POLITICAL LEADERS, OLIGARCHS\"\n",
      "        },\n",
      "        {\n",
      "            \"created_at\": \"2022-03-11T21:01:12.000Z\",\n",
      "            \"id\": \"1502389196765421572\",\n",
      "            \"text\": \"Bonds, Stocks, &amp; Commodities Crushed Because 'Putin' https://t.co/aPpoTRcsqO\"\n",
      "        },\n",
      "        {\n",
      "            \"created_at\": \"2022-03-11T21:00:49.000Z\",\n",
      "            \"id\": \"1502389099751219211\",\n",
      "            \"text\": \"The only way to crush enough commodity demand is to force a recession https://t.co/JRespFC3HO\"\n",
      "        },\n",
      "        {\n",
      "            \"created_at\": \"2022-03-11T21:00:13.000Z\",\n",
      "            \"id\": \"1502388951738466311\",\n",
      "            \"text\": \"https://t.co/oZzS7vhkBk\"\n",
      "        },\n",
      "        {\n",
      "            \"created_at\": \"2022-03-11T20:57:42.000Z\",\n",
      "            \"id\": \"1502388317882617856\",\n",
      "            \"text\": \"RT @scoopercooper: Abramovich transferred his \\u201cindirect economic interest\\u201d in 417 million Evraz PLC shares \\u2014 28.6 per cent of total shares\\u2026\"\n",
      "        }\n",
      "    ],\n",
      "    \"meta\": {\n",
      "        \"newest_id\": \"1502399018520956931\",\n",
      "        \"next_token\": \"7140dibdnow9c7btw420jnqei8fwyzb763sk9g9hhfjg6\",\n",
      "        \"oldest_id\": \"1502388317882617856\",\n",
      "        \"result_count\": 10\n",
      "    }\n",
      "}\n"
     ]
    }
   ],
   "source": [
    "def main():\n",
    "    url = create_url()\n",
    "    params = get_params()\n",
    "    json_response = connect_to_endpoint(url, params)\n",
    "    print(json.dumps(json_response, indent=4, sort_keys=True))\n",
    "\n",
    "\n",
    "if __name__ == \"__main__\":\n",
    "    main()"
   ]
  },
  {
   "cell_type": "code",
   "execution_count": null,
   "metadata": {},
   "outputs": [],
   "source": []
  },
  {
   "cell_type": "code",
   "execution_count": null,
   "metadata": {},
   "outputs": [],
   "source": []
  },
  {
   "cell_type": "code",
   "execution_count": null,
   "metadata": {},
   "outputs": [],
   "source": []
  }
 ],
 "metadata": {
  "interpreter": {
   "hash": "457bfd66bc83167280522f0979df4544bbf298b22f7b001b0d6e3acbe142422c"
  },
  "kernelspec": {
   "display_name": "Python 3.8.8 ('base')",
   "name": "python3"
  },
  "language_info": {
   "codemirror_mode": {
    "name": "ipython",
    "version": 3
   },
   "file_extension": ".py",
   "mimetype": "text/x-python",
   "name": "python",
   "nbconvert_exporter": "python",
   "pygments_lexer": "ipython3",
   "version": "3.7.10"
  }
 },
 "nbformat": 4,
 "nbformat_minor": 2
}
